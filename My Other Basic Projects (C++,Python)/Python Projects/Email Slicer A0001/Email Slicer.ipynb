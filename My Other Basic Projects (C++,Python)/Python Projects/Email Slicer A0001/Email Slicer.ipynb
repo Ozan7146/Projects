{
 "cells": [
  {
   "cell_type": "code",
   "execution_count": 5,
   "id": "9bc55983",
   "metadata": {},
   "outputs": [
    {
     "name": "stdout",
     "output_type": "stream",
     "text": [
      "Enter an email: ozan7146@gmail.com\n",
      "ozan7146\n"
     ]
    }
   ],
   "source": [
    "a = input(\"Enter an email: \")\n",
    "\n",
    "b = a.split(\"@\")\n",
    "print(b[0])"
   ]
  },
  {
   "cell_type": "code",
   "execution_count": null,
   "id": "3e50b220",
   "metadata": {},
   "outputs": [],
   "source": []
  }
 ],
 "metadata": {
  "kernelspec": {
   "display_name": "Python 3 (ipykernel)",
   "language": "python",
   "name": "python3"
  },
  "language_info": {
   "codemirror_mode": {
    "name": "ipython",
    "version": 3
   },
   "file_extension": ".py",
   "mimetype": "text/x-python",
   "name": "python",
   "nbconvert_exporter": "python",
   "pygments_lexer": "ipython3",
   "version": "3.9.13"
  }
 },
 "nbformat": 4,
 "nbformat_minor": 5
}
